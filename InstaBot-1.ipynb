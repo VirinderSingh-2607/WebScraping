{
 "cells": [
  {
   "cell_type": "code",
   "execution_count": 1,
   "id": "4a6e07a8",
   "metadata": {},
   "outputs": [
    {
     "name": "stdout",
     "output_type": "stream",
     "text": [
      "Requirement already satisfied: selenium in c:\\users\\virinder\\anaconda3\\lib\\site-packages (4.16.0)\n",
      "Requirement already satisfied: trio~=0.17 in c:\\users\\virinder\\anaconda3\\lib\\site-packages (from selenium) (0.24.0)\n",
      "Requirement already satisfied: urllib3[socks]<3,>=1.26 in c:\\users\\virinder\\anaconda3\\lib\\site-packages (from selenium) (1.26.11)\n",
      "Requirement already satisfied: trio-websocket~=0.9 in c:\\users\\virinder\\anaconda3\\lib\\site-packages (from selenium) (0.11.1)\n",
      "Requirement already satisfied: certifi>=2021.10.8 in c:\\users\\virinder\\anaconda3\\lib\\site-packages (from selenium) (2022.9.14)\n",
      "Requirement already satisfied: outcome in c:\\users\\virinder\\anaconda3\\lib\\site-packages (from trio~=0.17->selenium) (1.3.0.post0)\n",
      "Requirement already satisfied: sortedcontainers in c:\\users\\virinder\\anaconda3\\lib\\site-packages (from trio~=0.17->selenium) (2.4.0)\n",
      "Requirement already satisfied: sniffio>=1.3.0 in c:\\users\\virinder\\anaconda3\\lib\\site-packages (from trio~=0.17->selenium) (1.3.0)\n",
      "Requirement already satisfied: cffi>=1.14 in c:\\users\\virinder\\anaconda3\\lib\\site-packages (from trio~=0.17->selenium) (1.15.1)\n",
      "Requirement already satisfied: attrs>=20.1.0 in c:\\users\\virinder\\anaconda3\\lib\\site-packages (from trio~=0.17->selenium) (21.4.0)\n",
      "Requirement already satisfied: idna in c:\\users\\virinder\\anaconda3\\lib\\site-packages (from trio~=0.17->selenium) (3.3)\n",
      "Requirement already satisfied: exceptiongroup in c:\\users\\virinder\\anaconda3\\lib\\site-packages (from trio~=0.17->selenium) (1.2.0)\n",
      "Requirement already satisfied: wsproto>=0.14 in c:\\users\\virinder\\anaconda3\\lib\\site-packages (from trio-websocket~=0.9->selenium) (1.2.0)\n",
      "Requirement already satisfied: PySocks!=1.5.7,<2.0,>=1.5.6 in c:\\users\\virinder\\anaconda3\\lib\\site-packages (from urllib3[socks]<3,>=1.26->selenium) (1.7.1)\n",
      "Requirement already satisfied: pycparser in c:\\users\\virinder\\anaconda3\\lib\\site-packages (from cffi>=1.14->trio~=0.17->selenium) (2.21)\n",
      "Requirement already satisfied: h11<1,>=0.9.0 in c:\\users\\virinder\\anaconda3\\lib\\site-packages (from wsproto>=0.14->trio-websocket~=0.9->selenium) (0.14.0)\n"
     ]
    },
    {
     "name": "stderr",
     "output_type": "stream",
     "text": [
      "ERROR: Could not find a version that satisfies the requirement webdriver (from versions: none)\n",
      "ERROR: No matching distribution found for webdriver\n"
     ]
    }
   ],
   "source": [
    "!pip install selenium \n",
    "!pip install webdriver"
   ]
  },
  {
   "cell_type": "code",
   "execution_count": 2,
   "id": "fe3e59c3",
   "metadata": {},
   "outputs": [],
   "source": [
    "from selenium import webdriver\n",
    "from selenium.webdriver.common.keys import Keys\n",
    "from selenium.webdriver.common.by import By\n",
    "from selenium.webdriver.support  import expected_conditions as EC\n",
    "from selenium.webdriver.support.wait import WebDriverWait\n",
    "import time\n",
    "import json\n",
    "from bs4 import BeautifulSoup\n",
    "\n",
    "Url = \"https://www.instagram.com/\"\n",
    "\n"
   ]
  },
  {
   "cell_type": "code",
   "execution_count": 50,
   "id": "ae0fc7a6",
   "metadata": {
    "scrolled": true
   },
   "outputs": [],
   "source": [
    "def Login():\n",
    "    Login_page = driver.current_url\n",
    "    inputs = driver.find_elements(By.TAG_NAME,\"input\") \n",
    "    Username = inputs[0].send_keys(\"\")\n",
    "    Password = inputs[1].send_keys(\"\")\n",
    "    btns =driver.find_elements(By.TAG_NAME,\"Button\")\n",
    "    Log_in_btn = None\n",
    "    for i in btns:\n",
    "        if i.text == \"Log in\":\n",
    "            Log_in_btn = i\n",
    "    Log_in_btn.click()\n",
    "    btn = driver.find_element(By.XPATH,\"/html/body/div[2]/div/div/div[2]/div/div/div[1]/div[1]/div[2]/section/main/div/div/div/div/div\")\n",
    "    btn.click()\n",
    "    Not_Now = driver.find_element(By.XPATH,\"/html/body/div[3]/div[1]/div/div[2]/div/div/div/div/div[2]/div/div/div[3]/button[2]\")\n",
    "    Not_Now.click()\n",
    "def Search():\n",
    "    btn = driver.find_element(By.XPATH,\"/html/body/div[2]/div/div/div[2]/div/div/div[1]/div[1]/div[1]/div/div/div/div/div[2]/div[2]/span/div/a/div\")\n",
    "    btn.click()\n",
    "    time.sleep(5)\n",
    "    Search = driver.find_element(By.TAG_NAME,\"input\")\n",
    "    Search.send_keys(\"food\")\n",
    "    time.sleep(5)\n",
    "    div = soup.find(\"div\",{\"class\":\"x9f619 x78zum5 xdt5ytf x1iyjqo2 x6ikm8r x1odjw0f xh8yej3 xocp1fn\"}) \n",
    "    name = div.findAll(\"span\",{\"class\":\"x1lliihq x1plvlek xryxfnj x1n2onr6 x193iq5w xeuugli x1fj9vlw x13faqbe x1vvkbs x1s928wv xhkezso x1gmr53x x1cpjm7i x1fgarty x1943h6x x1i0vuye xvs91rp x1s688f x5n08af x10wh9bi x1wdrske x8viiok x18hxmgj\"})\n",
    "    for i in name:\n",
    "        if i.text[0] != \"#\":\n",
    "            print(i.text)\n",
    "    driver.implicitly_wait(10)\n",
    "    btn.click()\n",
    "def Follow():\n",
    "    btn = driver.find_element(By.XPATH,\"/html/body/div[2]/div/div/div[2]/div/div/div[1]/div[1]/div[1]/div/div/div/div/div[2]/div[2]/span/div/a/div\")\n",
    "    btn.click()\n",
    "    name = \"So Delhi\"\n",
    "    Search = driver.find_element(By.TAG_NAME,\"input\")\n",
    "    Search.send_keys(name)\n",
    "    time.sleep(5)\n",
    "    div = driver.find_element(By.XPATH,\"/html/body/div[2]/div/div/div[2]/div/div/div[1]/div[1]/div[1]/div/div/div[2]/div/div/div[2]/div/div/div[2]/div/a[1]/div[1]/div/div/div[2]/div/div\")\n",
    "    div.click()\n",
    "    follow_btn = driver.find_element(By.TAG_NAME,\"button\")\n",
    "    if follow_btn.text != \"Follow\":\n",
    "        print(\"Already following the Profile!\")\n",
    "    else:\n",
    "        follow_btn.click()\n",
    "        print(\"Now you have followed the So Delhi!\")\n",
    "    \n",
    "    time.sleep(5)\n",
    "    follow_btn.click()\n",
    "    driver.find_element(By.XPATH,\"/html/body/div[7]/div[1]/div/div[2]/div/div/div/div/div[2]/div/div/div/div[8]/div[1]/div/div/div/div/div\").click()\n",
    "    print(\"You have unfollowed\")\n",
    "    \n",
    "\n",
    "\n",
    "    \n",
    "\n",
    "\n",
    "\n",
    "    \n",
    "\n",
    "driver = webdriver.Edge()\n",
    "driver.get(Url)\n",
    "driver.implicitly_wait(10)\n",
    "\n",
    "\n",
    "\n",
    "# User = Login()\n",
    "\n",
    "Login_page = driver.current_url\n",
    "inputs = driver.find_elements(By.TAG_NAME,\"input\") \n",
    "Username = inputs[0].send_keys(\"\")\n",
    "Password = inputs[1].send_keys(\"\")\n",
    "btns =driver.find_elements(By.TAG_NAME,\"Button\")\n",
    "Log_in_btn = None\n",
    "for i in btns:\n",
    "    if i.text == \"Log in\":\n",
    "        Log_in_btn = i\n",
    "Log_in_btn.click()\n",
    "btn = driver.find_element(By.XPATH,\"/html/body/div[2]/div/div/div[2]/div/div/div[1]/div[1]/div[2]/section/main/div/div/div/div/div\")\n",
    "btn.click()\n",
    "Not_Now = driver.find_element(By.XPATH,\"/html/body/div[3]/div[1]/div/div[2]/div/div/div/div/div[2]/div/div/div[3]/button[2]\")\n",
    "Not_Now.click()\n"
   ]
  },
  {
   "cell_type": "code",
   "execution_count": 92,
   "id": "868e3fab",
   "metadata": {},
   "outputs": [
    {
     "data": {
      "text/plain": [
       "''"
      ]
     },
     "execution_count": 92,
     "metadata": {},
     "output_type": "execute_result"
    }
   ],
   "source": [
    "title = driver.find_element(By.XPATH,\"/html/body/div[2]/div/div/div[2]/div/div/div[1]/div[1]/div[1]/div/div/div/div/div[2]/div[2]/span/div/a/div\")\n",
    "title.text\n",
    "# btn = None\n",
    "# for j in title:\n",
    "#     if j.text ==\"Search\":\n",
    "#          btn=j\n",
    "# print(btn.text)\n"
   ]
  },
  {
   "cell_type": "code",
   "execution_count": 51,
   "id": "7d79b99b",
   "metadata": {},
   "outputs": [
    {
     "name": "stdout",
     "output_type": "stream",
     "text": [
      "foodpharmer\n",
      "24caratfoods\n",
      "fooddoctors525\n",
      "punjabi_food_factory\n",
      "bhukkad_chandigarians\n",
      "ludhiana_foodiess\n",
      "food\n",
      "pune_food_blogger\n",
      "food_mehkma\n",
      "thaparfoodfestival\n",
      "foodtalesofficial\n",
      "street_food_chandigarh\n",
      "foodiekanyatales\n",
      "amritsarfood\n",
      "spicy_caramel__\n",
      "foodie_incarnate\n",
      "food_roam\n",
      "food_founder_\n",
      "sizzlingfooddiaries\n",
      "foodiebliss09\n",
      "pranksterchandigarh\n",
      "foodlover_lyf\n",
      "thespicesof.life_\n",
      "food_taster22\n",
      "food_gasmic_famous\n",
      "foodyvishal\n",
      "foodies_home28\n",
      "vegvillagefoodofficial\n",
      "layered_in_love20\n",
      "foodlinkcatering\n",
      "food_decor_shop\n",
      "ludhiana_eats\n",
      "foood_addictss\n",
      "made_for_foodies_1\n",
      "foody_rahul_\n",
      "foodelhi\n",
      "dilsefoodie\n",
      "foodietanyaaaa\n",
      "foodpandits\n",
      "Ozee Food\n",
      "satkirat__singh\n",
      "talkwithfood\n",
      "docs_on_foodhunt\n",
      "oyefoodiesingh\n",
      "jaipurfoodtales\n",
      "foodz.in\n",
      "swadishtdelights\n",
      "thefooddiggerr\n",
      "yourfoodlab\n",
      "food.arrest\n",
      "foodie.abhishek_\n"
     ]
    }
   ],
   "source": [
    "btn = driver.find_element(By.XPATH,\"/html/body/div[2]/div/div/div[2]/div/div/div[1]/div[1]/div[1]/div/div/div/div/div[2]/div[2]/span/div/a/div\")\n",
    "btn.click()\n",
    "time.sleep(5)\n",
    "Search = driver.find_element(By.TAG_NAME,\"input\")\n",
    "Search.send_keys(\"food\")\n",
    "time.sleep(5)\n",
    "div = soup.find(\"div\",{\"class\":\"x9f619 x78zum5 xdt5ytf x1iyjqo2 x6ikm8r x1odjw0f xh8yej3 xocp1fn\"})\n",
    "name = div.findAll(\"span\",{\"class\":\"x1lliihq x1plvlek xryxfnj x1n2onr6 x193iq5w xeuugli x1fj9vlw x13faqbe x1vvkbs x1s928wv xhkezso x1gmr53x x1cpjm7i x1fgarty x1943h6x x1i0vuye xvs91rp x1s688f x5n08af x10wh9bi x1wdrske x8viiok x18hxmgj\"})\n",
    "for i in name:\n",
    "    if i.text[0] != \"#\":\n",
    "        print(i.text)\n",
    "driver.implicitly_wait(10)\n",
    "btn.click()\n",
    "\n"
   ]
  },
  {
   "cell_type": "code",
   "execution_count": 28,
   "id": "342edd68",
   "metadata": {},
   "outputs": [
    {
     "name": "stdout",
     "output_type": "stream",
     "text": [
      "foodpharmer\n",
      "24caratfoods\n",
      "fooddoctors525\n",
      "punjabi_food_factory\n",
      "bhukkad_chandigarians\n",
      "ludhiana_foodiess\n",
      "food\n",
      "pune_food_blogger\n",
      "food_mehkma\n",
      "thaparfoodfestival\n",
      "foodtalesofficial\n",
      "street_food_chandigarh\n",
      "foodiekanyatales\n",
      "amritsarfood\n",
      "spicy_caramel__\n",
      "foodie_incarnate\n",
      "food_roam\n",
      "food_founder_\n",
      "sizzlingfooddiaries\n",
      "foodiebliss09\n",
      "pranksterchandigarh\n",
      "foodlover_lyf\n",
      "thespicesof.life_\n",
      "food_taster22\n",
      "food_gasmic_famous\n",
      "foodyvishal\n",
      "foodies_home28\n",
      "vegvillagefoodofficial\n",
      "layered_in_love20\n",
      "foodlinkcatering\n",
      "food_decor_shop\n",
      "ludhiana_eats\n",
      "foood_addictss\n",
      "made_for_foodies_1\n",
      "foody_rahul_\n",
      "foodelhi\n",
      "dilsefoodie\n",
      "foodietanyaaaa\n",
      "foodpandits\n",
      "Ozee Food\n",
      "satkirat__singh\n",
      "talkwithfood\n",
      "docs_on_foodhunt\n",
      "oyefoodiesingh\n",
      "jaipurfoodtales\n",
      "foodz.in\n",
      "swadishtdelights\n",
      "thefooddiggerr\n",
      "yourfoodlab\n",
      "food.arrest\n",
      "foodie.abhishek_\n"
     ]
    }
   ],
   "source": [
    "div = soup.find(\"div\",{\"class\":\"x9f619 x78zum5 xdt5ytf x1iyjqo2 x6ikm8r x1odjw0f xh8yej3 xocp1fn\"})\n",
    "name = div.findAll(\"span\",{\"class\":\"x1lliihq x1plvlek xryxfnj x1n2onr6 x193iq5w xeuugli x1fj9vlw x13faqbe x1vvkbs x1s928wv xhkezso x1gmr53x x1cpjm7i x1fgarty x1943h6x x1i0vuye xvs91rp x1s688f x5n08af x10wh9bi x1wdrske x8viiok x18hxmgj\"})\n",
    "for i in name:\n",
    "    if i.text[0] != \"#\":\n",
    "        print(i.text)"
   ]
  },
  {
   "cell_type": "code",
   "execution_count": 1,
   "id": "b2202a35",
   "metadata": {
    "scrolled": true
   },
   "outputs": [
    {
     "name": "stdout",
     "output_type": "stream",
     "text": [
      "Requirement already satisfied: lxml in c:\\users\\virinder\\anaconda3\\lib\\site-packages (4.9.1)\n"
     ]
    }
   ],
   "source": [
    "!pip install lxml"
   ]
  },
  {
   "cell_type": "code",
   "execution_count": 71,
   "id": "4e027b90",
   "metadata": {
    "scrolled": true
   },
   "outputs": [
    {
     "ename": "StaleElementReferenceException",
     "evalue": "Message: stale element reference: stale element not found\n  (Session info: MicrosoftEdge=120.0.2210.144); For documentation on this error, please visit: https://www.selenium.dev/documentation/webdriver/troubleshooting/errors#stale-element-reference-exception\nStacktrace:\n\tGetHandleVerifier [0x00007FF6CB1D0352+58194]\n\tMicrosoft::Applications::Events::ILogConfiguration::operator* [0x00007FF6CB15ECB2+216546]\n\t(No symbol) [0x00007FF6CAF79E1B]\n\t(No symbol) [0x00007FF6CAF7ED2B]\n\t(No symbol) [0x00007FF6CAF81347]\n\t(No symbol) [0x00007FF6CAF81430]\n\t(No symbol) [0x00007FF6CAFC3F1E]\n\t(No symbol) [0x00007FF6CAFEC0DA]\n\t(No symbol) [0x00007FF6CAFBD3E1]\n\t(No symbol) [0x00007FF6CAFBD28D]\n\t(No symbol) [0x00007FF6CAFEC670]\n\t(No symbol) [0x00007FF6CAFBD3E1]\n\t(No symbol) [0x00007FF6CB008A7E]\n\t(No symbol) [0x00007FF6CAFEBD43]\n\t(No symbol) [0x00007FF6CAFBC162]\n\t(No symbol) [0x00007FF6CAFBB5BD]\n\t(No symbol) [0x00007FF6CAFBC994]\n\tMicrosoft::Applications::Events::EventProperty::to_string [0x00007FF6CB386CFA+1051354]\n\t(No symbol) [0x00007FF6CB03F596]\n\tMicrosoft::Applications::Events::EventProperty::clear [0x00007FF6CB0D6205+34245]\n\tMicrosoft::Applications::Events::EventProperty::clear [0x00007FF6CB0CE6AD+2669]\n\tMicrosoft::Applications::Events::EventProperty::to_string [0x00007FF6CB3859F3+1046483]\n\tMicrosoft::Applications::Events::ILogConfiguration::operator* [0x00007FF6CB168998+256712]\n\tMicrosoft::Applications::Events::ILogConfiguration::operator* [0x00007FF6CB164124+238164]\n\tMicrosoft::Applications::Events::ILogConfiguration::operator* [0x00007FF6CB164252+238466]\n\tMicrosoft::Applications::Events::ILogConfiguration::operator* [0x00007FF6CB158FF1+192801]\n\tBaseThreadInitThunk [0x00007FFF7F9D257D+29]\n\tRtlUserThreadStart [0x00007FFF804CAA58+40]\n",
     "output_type": "error",
     "traceback": [
      "\u001b[1;31m---------------------------------------------------------------------------\u001b[0m",
      "\u001b[1;31mStaleElementReferenceException\u001b[0m            Traceback (most recent call last)",
      "\u001b[1;32m~\\AppData\\Local\\Temp\\ipykernel_9700\\4276888594.py\u001b[0m in \u001b[0;36m<module>\u001b[1;34m\u001b[0m\n\u001b[0;32m      9\u001b[0m \u001b[0mfollow_btn\u001b[0m \u001b[1;33m=\u001b[0m \u001b[0mdriver\u001b[0m\u001b[1;33m.\u001b[0m\u001b[0mfind_elements\u001b[0m\u001b[1;33m(\u001b[0m\u001b[0mBy\u001b[0m\u001b[1;33m.\u001b[0m\u001b[0mTAG_NAME\u001b[0m\u001b[1;33m,\u001b[0m\u001b[1;34m\"button\"\u001b[0m\u001b[1;33m)\u001b[0m\u001b[1;33m\u001b[0m\u001b[1;33m\u001b[0m\u001b[0m\n\u001b[0;32m     10\u001b[0m \u001b[1;32mfor\u001b[0m \u001b[0mi\u001b[0m \u001b[1;32min\u001b[0m \u001b[0mfollow_btn\u001b[0m\u001b[1;33m:\u001b[0m\u001b[1;33m\u001b[0m\u001b[1;33m\u001b[0m\u001b[0m\n\u001b[1;32m---> 11\u001b[1;33m     \u001b[0mprint\u001b[0m\u001b[1;33m(\u001b[0m\u001b[0mi\u001b[0m\u001b[1;33m.\u001b[0m\u001b[0mtext\u001b[0m\u001b[1;33m)\u001b[0m\u001b[1;33m\u001b[0m\u001b[1;33m\u001b[0m\u001b[0m\n\u001b[0m",
      "\u001b[1;32m~\\anaconda3\\lib\\site-packages\\selenium\\webdriver\\remote\\webelement.py\u001b[0m in \u001b[0;36mtext\u001b[1;34m(self)\u001b[0m\n\u001b[0;32m     88\u001b[0m     \u001b[1;32mdef\u001b[0m \u001b[0mtext\u001b[0m\u001b[1;33m(\u001b[0m\u001b[0mself\u001b[0m\u001b[1;33m)\u001b[0m \u001b[1;33m->\u001b[0m \u001b[0mstr\u001b[0m\u001b[1;33m:\u001b[0m\u001b[1;33m\u001b[0m\u001b[1;33m\u001b[0m\u001b[0m\n\u001b[0;32m     89\u001b[0m         \u001b[1;34m\"\"\"The text of the element.\"\"\"\u001b[0m\u001b[1;33m\u001b[0m\u001b[1;33m\u001b[0m\u001b[0m\n\u001b[1;32m---> 90\u001b[1;33m         \u001b[1;32mreturn\u001b[0m \u001b[0mself\u001b[0m\u001b[1;33m.\u001b[0m\u001b[0m_execute\u001b[0m\u001b[1;33m(\u001b[0m\u001b[0mCommand\u001b[0m\u001b[1;33m.\u001b[0m\u001b[0mGET_ELEMENT_TEXT\u001b[0m\u001b[1;33m)\u001b[0m\u001b[1;33m[\u001b[0m\u001b[1;34m\"value\"\u001b[0m\u001b[1;33m]\u001b[0m\u001b[1;33m\u001b[0m\u001b[1;33m\u001b[0m\u001b[0m\n\u001b[0m\u001b[0;32m     91\u001b[0m \u001b[1;33m\u001b[0m\u001b[0m\n\u001b[0;32m     92\u001b[0m     \u001b[1;32mdef\u001b[0m \u001b[0mclick\u001b[0m\u001b[1;33m(\u001b[0m\u001b[0mself\u001b[0m\u001b[1;33m)\u001b[0m \u001b[1;33m->\u001b[0m \u001b[1;32mNone\u001b[0m\u001b[1;33m:\u001b[0m\u001b[1;33m\u001b[0m\u001b[1;33m\u001b[0m\u001b[0m\n",
      "\u001b[1;32m~\\anaconda3\\lib\\site-packages\\selenium\\webdriver\\remote\\webelement.py\u001b[0m in \u001b[0;36m_execute\u001b[1;34m(self, command, params)\u001b[0m\n\u001b[0;32m    393\u001b[0m             \u001b[0mparams\u001b[0m \u001b[1;33m=\u001b[0m \u001b[1;33m{\u001b[0m\u001b[1;33m}\u001b[0m\u001b[1;33m\u001b[0m\u001b[1;33m\u001b[0m\u001b[0m\n\u001b[0;32m    394\u001b[0m         \u001b[0mparams\u001b[0m\u001b[1;33m[\u001b[0m\u001b[1;34m\"id\"\u001b[0m\u001b[1;33m]\u001b[0m \u001b[1;33m=\u001b[0m \u001b[0mself\u001b[0m\u001b[1;33m.\u001b[0m\u001b[0m_id\u001b[0m\u001b[1;33m\u001b[0m\u001b[1;33m\u001b[0m\u001b[0m\n\u001b[1;32m--> 395\u001b[1;33m         \u001b[1;32mreturn\u001b[0m \u001b[0mself\u001b[0m\u001b[1;33m.\u001b[0m\u001b[0m_parent\u001b[0m\u001b[1;33m.\u001b[0m\u001b[0mexecute\u001b[0m\u001b[1;33m(\u001b[0m\u001b[0mcommand\u001b[0m\u001b[1;33m,\u001b[0m \u001b[0mparams\u001b[0m\u001b[1;33m)\u001b[0m\u001b[1;33m\u001b[0m\u001b[1;33m\u001b[0m\u001b[0m\n\u001b[0m\u001b[0;32m    396\u001b[0m \u001b[1;33m\u001b[0m\u001b[0m\n\u001b[0;32m    397\u001b[0m     \u001b[1;32mdef\u001b[0m \u001b[0mfind_element\u001b[0m\u001b[1;33m(\u001b[0m\u001b[0mself\u001b[0m\u001b[1;33m,\u001b[0m \u001b[0mby\u001b[0m\u001b[1;33m=\u001b[0m\u001b[0mBy\u001b[0m\u001b[1;33m.\u001b[0m\u001b[0mID\u001b[0m\u001b[1;33m,\u001b[0m \u001b[0mvalue\u001b[0m\u001b[1;33m=\u001b[0m\u001b[1;32mNone\u001b[0m\u001b[1;33m)\u001b[0m \u001b[1;33m->\u001b[0m \u001b[0mWebElement\u001b[0m\u001b[1;33m:\u001b[0m\u001b[1;33m\u001b[0m\u001b[1;33m\u001b[0m\u001b[0m\n",
      "\u001b[1;32m~\\anaconda3\\lib\\site-packages\\selenium\\webdriver\\remote\\webdriver.py\u001b[0m in \u001b[0;36mexecute\u001b[1;34m(self, driver_command, params)\u001b[0m\n\u001b[0;32m    346\u001b[0m         \u001b[0mresponse\u001b[0m \u001b[1;33m=\u001b[0m \u001b[0mself\u001b[0m\u001b[1;33m.\u001b[0m\u001b[0mcommand_executor\u001b[0m\u001b[1;33m.\u001b[0m\u001b[0mexecute\u001b[0m\u001b[1;33m(\u001b[0m\u001b[0mdriver_command\u001b[0m\u001b[1;33m,\u001b[0m \u001b[0mparams\u001b[0m\u001b[1;33m)\u001b[0m\u001b[1;33m\u001b[0m\u001b[1;33m\u001b[0m\u001b[0m\n\u001b[0;32m    347\u001b[0m         \u001b[1;32mif\u001b[0m \u001b[0mresponse\u001b[0m\u001b[1;33m:\u001b[0m\u001b[1;33m\u001b[0m\u001b[1;33m\u001b[0m\u001b[0m\n\u001b[1;32m--> 348\u001b[1;33m             \u001b[0mself\u001b[0m\u001b[1;33m.\u001b[0m\u001b[0merror_handler\u001b[0m\u001b[1;33m.\u001b[0m\u001b[0mcheck_response\u001b[0m\u001b[1;33m(\u001b[0m\u001b[0mresponse\u001b[0m\u001b[1;33m)\u001b[0m\u001b[1;33m\u001b[0m\u001b[1;33m\u001b[0m\u001b[0m\n\u001b[0m\u001b[0;32m    349\u001b[0m             \u001b[0mresponse\u001b[0m\u001b[1;33m[\u001b[0m\u001b[1;34m\"value\"\u001b[0m\u001b[1;33m]\u001b[0m \u001b[1;33m=\u001b[0m \u001b[0mself\u001b[0m\u001b[1;33m.\u001b[0m\u001b[0m_unwrap_value\u001b[0m\u001b[1;33m(\u001b[0m\u001b[0mresponse\u001b[0m\u001b[1;33m.\u001b[0m\u001b[0mget\u001b[0m\u001b[1;33m(\u001b[0m\u001b[1;34m\"value\"\u001b[0m\u001b[1;33m,\u001b[0m \u001b[1;32mNone\u001b[0m\u001b[1;33m)\u001b[0m\u001b[1;33m)\u001b[0m\u001b[1;33m\u001b[0m\u001b[1;33m\u001b[0m\u001b[0m\n\u001b[0;32m    350\u001b[0m             \u001b[1;32mreturn\u001b[0m \u001b[0mresponse\u001b[0m\u001b[1;33m\u001b[0m\u001b[1;33m\u001b[0m\u001b[0m\n",
      "\u001b[1;32m~\\anaconda3\\lib\\site-packages\\selenium\\webdriver\\remote\\errorhandler.py\u001b[0m in \u001b[0;36mcheck_response\u001b[1;34m(self, response)\u001b[0m\n\u001b[0;32m    227\u001b[0m                 \u001b[0malert_text\u001b[0m \u001b[1;33m=\u001b[0m \u001b[0mvalue\u001b[0m\u001b[1;33m[\u001b[0m\u001b[1;34m\"alert\"\u001b[0m\u001b[1;33m]\u001b[0m\u001b[1;33m.\u001b[0m\u001b[0mget\u001b[0m\u001b[1;33m(\u001b[0m\u001b[1;34m\"text\"\u001b[0m\u001b[1;33m)\u001b[0m\u001b[1;33m\u001b[0m\u001b[1;33m\u001b[0m\u001b[0m\n\u001b[0;32m    228\u001b[0m             \u001b[1;32mraise\u001b[0m \u001b[0mexception_class\u001b[0m\u001b[1;33m(\u001b[0m\u001b[0mmessage\u001b[0m\u001b[1;33m,\u001b[0m \u001b[0mscreen\u001b[0m\u001b[1;33m,\u001b[0m \u001b[0mstacktrace\u001b[0m\u001b[1;33m,\u001b[0m \u001b[0malert_text\u001b[0m\u001b[1;33m)\u001b[0m  \u001b[1;31m# type: ignore[call-arg]  # mypy is not smart enough here\u001b[0m\u001b[1;33m\u001b[0m\u001b[1;33m\u001b[0m\u001b[0m\n\u001b[1;32m--> 229\u001b[1;33m         \u001b[1;32mraise\u001b[0m \u001b[0mexception_class\u001b[0m\u001b[1;33m(\u001b[0m\u001b[0mmessage\u001b[0m\u001b[1;33m,\u001b[0m \u001b[0mscreen\u001b[0m\u001b[1;33m,\u001b[0m \u001b[0mstacktrace\u001b[0m\u001b[1;33m)\u001b[0m\u001b[1;33m\u001b[0m\u001b[1;33m\u001b[0m\u001b[0m\n\u001b[0m",
      "\u001b[1;31mStaleElementReferenceException\u001b[0m: Message: stale element reference: stale element not found\n  (Session info: MicrosoftEdge=120.0.2210.144); For documentation on this error, please visit: https://www.selenium.dev/documentation/webdriver/troubleshooting/errors#stale-element-reference-exception\nStacktrace:\n\tGetHandleVerifier [0x00007FF6CB1D0352+58194]\n\tMicrosoft::Applications::Events::ILogConfiguration::operator* [0x00007FF6CB15ECB2+216546]\n\t(No symbol) [0x00007FF6CAF79E1B]\n\t(No symbol) [0x00007FF6CAF7ED2B]\n\t(No symbol) [0x00007FF6CAF81347]\n\t(No symbol) [0x00007FF6CAF81430]\n\t(No symbol) [0x00007FF6CAFC3F1E]\n\t(No symbol) [0x00007FF6CAFEC0DA]\n\t(No symbol) [0x00007FF6CAFBD3E1]\n\t(No symbol) [0x00007FF6CAFBD28D]\n\t(No symbol) [0x00007FF6CAFEC670]\n\t(No symbol) [0x00007FF6CAFBD3E1]\n\t(No symbol) [0x00007FF6CB008A7E]\n\t(No symbol) [0x00007FF6CAFEBD43]\n\t(No symbol) [0x00007FF6CAFBC162]\n\t(No symbol) [0x00007FF6CAFBB5BD]\n\t(No symbol) [0x00007FF6CAFBC994]\n\tMicrosoft::Applications::Events::EventProperty::to_string [0x00007FF6CB386CFA+1051354]\n\t(No symbol) [0x00007FF6CB03F596]\n\tMicrosoft::Applications::Events::EventProperty::clear [0x00007FF6CB0D6205+34245]\n\tMicrosoft::Applications::Events::EventProperty::clear [0x00007FF6CB0CE6AD+2669]\n\tMicrosoft::Applications::Events::EventProperty::to_string [0x00007FF6CB3859F3+1046483]\n\tMicrosoft::Applications::Events::ILogConfiguration::operator* [0x00007FF6CB168998+256712]\n\tMicrosoft::Applications::Events::ILogConfiguration::operator* [0x00007FF6CB164124+238164]\n\tMicrosoft::Applications::Events::ILogConfiguration::operator* [0x00007FF6CB164252+238466]\n\tMicrosoft::Applications::Events::ILogConfiguration::operator* [0x00007FF6CB158FF1+192801]\n\tBaseThreadInitThunk [0x00007FFF7F9D257D+29]\n\tRtlUserThreadStart [0x00007FFF804CAA58+40]\n"
     ]
    }
   ],
   "source": [
    "btn = driver.find_element(By.XPATH,\"/html/body/div[2]/div/div/div[2]/div/div/div[1]/div[1]/div[1]/div/div/div/div/div[2]/div[2]/span/div/a/div\")\n",
    "btn.click()\n",
    "name = \"So Delhi\"\n",
    "Search = driver.find_element(By.TAG_NAME,\"input\")\n",
    "Search.send_keys(name)\n",
    "time.sleep(5)\n",
    "div = driver.find_element(By.XPATH,\"/html/body/div[2]/div/div/div[2]/div/div/div[1]/div[1]/div[1]/div/div/div[2]/div/div/div[2]/div/div/div[2]/div/a[1]/div[1]/div/div/div[2]/div/div\")\n",
    "div.click()\n",
    "follow_btn = driver.find_element(By.TAG_NAME,\"button\")\n",
    "if follow_btn.text != \"Follow\":\n",
    "    print(\"Already following the Profile!\")\n",
    "else:\n",
    "    follow_btn.click()\n",
    "    print(\"Now you have followed the So Delhi!\")\n",
    "    \n",
    "time.sleep(5)\n",
    "follow_btn.click()\n",
    "driver.find_element(By.XPATH,\"/html/body/div[7]/div[1]/div/div[2]/div/div/div/div/div[2]/div/div/div/div[8]/div[1]/div/div/div/div/div\").click()\n",
    "print(\"You have unfollowed\")\n",
    "\n",
    "\n"
   ]
  },
  {
   "cell_type": "code",
   "execution_count": 72,
   "id": "c89f6ef0",
   "metadata": {},
   "outputs": [
    {
     "name": "stdout",
     "output_type": "stream",
     "text": [
      "Now you have followed the So Delhi!\n"
     ]
    }
   ],
   "source": [
    "follow_btn = driver.find_element(By.TAG_NAME,\"button\")\n",
    "if follow_btn.text != \"Follow\":\n",
    "    print(\"Already following the Profile!\")\n",
    "else:\n",
    "    follow_btn.click()\n",
    "    print(\"Now you have followed the So Delhi!\")\n",
    "    \n",
    "time.sleep(5)\n",
    "follow_btn.click()\n",
    "driver.find_element(By.XPATH,\"/html/body/div[7]/div[1]/div/div[2]/div/div/div/div/div[2]/div/div/div/div[8]/div[1]/div/div/div/div/div\").click()\n",
    "print(\"You have unfollowed\")"
   ]
  },
  {
   "cell_type": "code",
   "execution_count": 74,
   "id": "8b996ffd",
   "metadata": {},
   "outputs": [],
   "source": [
    "Post = driver.find_elements(By.CLASS_NAME,\"_ac7v  _al3n\")"
   ]
  }
 ],
 "metadata": {
  "kernelspec": {
   "display_name": "Python 3 (ipykernel)",
   "language": "python",
   "name": "python3"
  },
  "language_info": {
   "codemirror_mode": {
    "name": "ipython",
    "version": 3
   },
   "file_extension": ".py",
   "mimetype": "text/x-python",
   "name": "python",
   "nbconvert_exporter": "python",
   "pygments_lexer": "ipython3",
   "version": "3.9.13"
  }
 },
 "nbformat": 4,
 "nbformat_minor": 5
}
